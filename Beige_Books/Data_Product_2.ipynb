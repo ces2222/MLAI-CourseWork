{
 "cells": [
  {
   "cell_type": "markdown",
   "metadata": {},
   "source": [
    "# Data Project 2 - Machine Learning Application"
   ]
  },
  {
   "cell_type": "markdown",
   "metadata": {},
   "source": [
    "By Charlie Smith, University of South Alabama, Fall 2023, BUS 798"
   ]
  },
  {
   "cell_type": "markdown",
   "metadata": {},
   "source": [
    "## 1. Data Selection and Preprocessing\n",
    "Do a lot of initial work here to get the dataset in order. Much of this work was done in previous assignments.\n",
    "\n",
    "Skip down to where it says \"Machine Learning Application\" to see steps 2 through 7 of this assignment."
   ]
  },
  {
   "cell_type": "code",
   "execution_count": 99,
   "metadata": {},
   "outputs": [
    {
     "name": "stderr",
     "output_type": "stream",
     "text": [
      "[nltk_data] Downloading package stopwords to C:\\Users\\MCOB PHD\n",
      "[nltk_data]     14\\AppData\\Roaming\\nltk_data...\n",
      "[nltk_data]   Package stopwords is already up-to-date!\n"
     ]
    },
    {
     "data": {
      "text/plain": [
       "True"
      ]
     },
     "execution_count": 99,
     "metadata": {},
     "output_type": "execute_result"
    }
   ],
   "source": [
    "# Importing pandas for numerical variable analysis and os, numpy, string, and nltk for text variable analysis.\n",
    "\n",
    "import pandas as pd\n",
    "import os as os\n",
    "import numpy as np\n",
    "import string as string\n",
    "import nltk\n",
    "from nltk.corpus import stopwords\n",
    "nltk.download('stopwords')\n"
   ]
  },
  {
   "cell_type": "markdown",
   "metadata": {},
   "source": [
    "### 1.2 Reading in Beige Books"
   ]
  },
  {
   "cell_type": "code",
   "execution_count": 2,
   "metadata": {},
   "outputs": [],
   "source": [
    "# Reading in the Beige Books texts as a dataframe\n",
    "    # Also including the filename so we can know which region, month, and year it's from\n",
    "\n",
    "# Setting the directory where the text files of the Beige Books are stored\n",
    "directory_path = \"C:/Users/MCOB PHD 14/Dropbox/Charlie's Dissertation/Beige Books\"\n",
    "\n",
    "# Create empty lists to store text and file names\n",
    "textDF = []\n",
    "file_names = []\n",
    "\n",
    "# Loop through the files in the directory\n",
    "for filename in os.listdir(directory_path):\n",
    "    if filename.endswith(\".txt\"):\n",
    "        with open(os.path.join(directory_path, filename), 'r', encoding='utf-8') as file:\n",
    "            # Append the text to the text_data list\n",
    "            textDF.append(file.read())\n",
    "            # Append the file name to the file_names list\n",
    "            file_names.append(filename)\n",
    "\n",
    "# Create a DataFrame from the text and file_names lists\n",
    "data = {'text': textDF, 'file_name': file_names}\n",
    "BeigeBookDF = pd.DataFrame(data)"
   ]
  },
  {
   "cell_type": "code",
   "execution_count": 3,
   "metadata": {},
   "outputs": [],
   "source": [
    "# Import the nltk vader package for sentiment analysis\n",
    "from nltk.sentiment.vader import SentimentIntensityAnalyzer\n",
    "# Initialize the sentiment analyzer\n",
    "analyzer = SentimentIntensityAnalyzer()"
   ]
  },
  {
   "cell_type": "code",
   "execution_count": 4,
   "metadata": {},
   "outputs": [],
   "source": [
    "# Create the function and run it on the Beige Book dataframe\n",
    "def analyze_sentiment(BeigeBookDF):\n",
    "    sid = SentimentIntensityAnalyzer()\n",
    "    sentiment_scores = sid.polarity_scores(BeigeBookDF)\n",
    "    \n",
    "    compound_score = sentiment_scores['compound']\n",
    "    \n",
    "    if compound_score >= 0.05:\n",
    "        sentiment = 'positive'\n",
    "    elif compound_score <= -0.05:\n",
    "        sentiment = 'negative'\n",
    "    else:\n",
    "        sentiment = 'neutral'\n",
    "    \n",
    "    return compound_score, sentiment\n",
    "\n",
    "BeigeBookDF['compound_score'], BeigeBookDF['sentiment'] = zip(*BeigeBookDF['text'].apply(analyze_sentiment))\n"
   ]
  },
  {
   "cell_type": "markdown",
   "metadata": {},
   "source": [
    "### 1.3 DV - Macroeconomic index score"
   ]
  },
  {
   "cell_type": "code",
   "execution_count": 5,
   "metadata": {},
   "outputs": [
    {
     "data": {
      "text/html": [
       "<div>\n",
       "<style scoped>\n",
       "    .dataframe tbody tr th:only-of-type {\n",
       "        vertical-align: middle;\n",
       "    }\n",
       "\n",
       "    .dataframe tbody tr th {\n",
       "        vertical-align: top;\n",
       "    }\n",
       "\n",
       "    .dataframe thead th {\n",
       "        text-align: right;\n",
       "    }\n",
       "</style>\n",
       "<table border=\"1\" class=\"dataframe\">\n",
       "  <thead>\n",
       "    <tr style=\"text-align: right;\">\n",
       "      <th></th>\n",
       "      <th>Date</th>\n",
       "      <th>USPHCI</th>\n",
       "      <th>District 1</th>\n",
       "      <th>District 2</th>\n",
       "      <th>District 3</th>\n",
       "      <th>District 4</th>\n",
       "      <th>District 5</th>\n",
       "      <th>District 6</th>\n",
       "      <th>District 7</th>\n",
       "      <th>District 8</th>\n",
       "      <th>District 9</th>\n",
       "      <th>District 10</th>\n",
       "      <th>District 11</th>\n",
       "      <th>District 12</th>\n",
       "    </tr>\n",
       "  </thead>\n",
       "  <tbody>\n",
       "    <tr>\n",
       "      <th>0</th>\n",
       "      <td>4/1/1979</td>\n",
       "      <td>46.14</td>\n",
       "      <td>0.22</td>\n",
       "      <td>9.92</td>\n",
       "      <td>11.87</td>\n",
       "      <td>16.25</td>\n",
       "      <td>-0.15</td>\n",
       "      <td>-2.42</td>\n",
       "      <td>15.90</td>\n",
       "      <td>11.08</td>\n",
       "      <td>4.86</td>\n",
       "      <td>3.98</td>\n",
       "      <td>-5.66</td>\n",
       "      <td>-5.63</td>\n",
       "    </tr>\n",
       "    <tr>\n",
       "      <th>1</th>\n",
       "      <td>5/1/1979</td>\n",
       "      <td>46.37</td>\n",
       "      <td>0.22</td>\n",
       "      <td>9.82</td>\n",
       "      <td>11.79</td>\n",
       "      <td>16.14</td>\n",
       "      <td>-0.24</td>\n",
       "      <td>-2.51</td>\n",
       "      <td>15.80</td>\n",
       "      <td>10.93</td>\n",
       "      <td>4.79</td>\n",
       "      <td>3.90</td>\n",
       "      <td>-5.73</td>\n",
       "      <td>-5.70</td>\n",
       "    </tr>\n",
       "    <tr>\n",
       "      <th>2</th>\n",
       "      <td>6/1/1979</td>\n",
       "      <td>46.50</td>\n",
       "      <td>0.30</td>\n",
       "      <td>9.79</td>\n",
       "      <td>11.79</td>\n",
       "      <td>16.09</td>\n",
       "      <td>-0.27</td>\n",
       "      <td>-2.53</td>\n",
       "      <td>15.70</td>\n",
       "      <td>10.83</td>\n",
       "      <td>4.76</td>\n",
       "      <td>3.86</td>\n",
       "      <td>-5.71</td>\n",
       "      <td>-5.65</td>\n",
       "    </tr>\n",
       "    <tr>\n",
       "      <th>3</th>\n",
       "      <td>7/1/1979</td>\n",
       "      <td>46.62</td>\n",
       "      <td>0.28</td>\n",
       "      <td>9.66</td>\n",
       "      <td>11.69</td>\n",
       "      <td>15.90</td>\n",
       "      <td>-0.29</td>\n",
       "      <td>-2.62</td>\n",
       "      <td>15.49</td>\n",
       "      <td>10.62</td>\n",
       "      <td>4.65</td>\n",
       "      <td>3.81</td>\n",
       "      <td>-5.67</td>\n",
       "      <td>-5.62</td>\n",
       "    </tr>\n",
       "    <tr>\n",
       "      <th>4</th>\n",
       "      <td>8/1/1979</td>\n",
       "      <td>46.68</td>\n",
       "      <td>0.43</td>\n",
       "      <td>9.67</td>\n",
       "      <td>11.62</td>\n",
       "      <td>15.83</td>\n",
       "      <td>-0.32</td>\n",
       "      <td>-2.54</td>\n",
       "      <td>15.23</td>\n",
       "      <td>10.52</td>\n",
       "      <td>4.59</td>\n",
       "      <td>3.83</td>\n",
       "      <td>-5.57</td>\n",
       "      <td>-5.60</td>\n",
       "    </tr>\n",
       "  </tbody>\n",
       "</table>\n",
       "</div>"
      ],
      "text/plain": [
       "       Date  USPHCI  District 1  District 2  District 3  District 4  \\\n",
       "0  4/1/1979   46.14        0.22        9.92       11.87       16.25   \n",
       "1  5/1/1979   46.37        0.22        9.82       11.79       16.14   \n",
       "2  6/1/1979   46.50        0.30        9.79       11.79       16.09   \n",
       "3  7/1/1979   46.62        0.28        9.66       11.69       15.90   \n",
       "4  8/1/1979   46.68        0.43        9.67       11.62       15.83   \n",
       "\n",
       "   District 5  District 6  District 7  District 8  District 9  District 10  \\\n",
       "0       -0.15       -2.42       15.90       11.08        4.86         3.98   \n",
       "1       -0.24       -2.51       15.80       10.93        4.79         3.90   \n",
       "2       -0.27       -2.53       15.70       10.83        4.76         3.86   \n",
       "3       -0.29       -2.62       15.49       10.62        4.65         3.81   \n",
       "4       -0.32       -2.54       15.23       10.52        4.59         3.83   \n",
       "\n",
       "   District 11  District 12  \n",
       "0        -5.66        -5.63  \n",
       "1        -5.73        -5.70  \n",
       "2        -5.71        -5.65  \n",
       "3        -5.67        -5.62  \n",
       "4        -5.57        -5.60  "
      ]
     },
     "execution_count": 5,
     "metadata": {},
     "output_type": "execute_result"
    }
   ],
   "source": [
    "# Reading in the data\n",
    "districtDiffs = pd.read_csv('district_diffs.csv', encoding='latin1')\n",
    "districtDiffs.head()"
   ]
  },
  {
   "cell_type": "code",
   "execution_count": 6,
   "metadata": {},
   "outputs": [
    {
     "name": "stdout",
     "output_type": "stream",
     "text": [
      "DV Mean: 2.0042464040025005\n",
      "DV Median: 0.985\n"
     ]
    }
   ],
   "source": [
    "# Want to calculate overall mean for the combined districts\n",
    "# Select the columns you want to include in the mean calculation\n",
    "district_columns = ['District 1', 'District 2', 'District 3', 'District 4', 'District 5', 'District 6', 'District 7', 'District 8', 'District 9', 'District 10', 'District 11', 'District 12']\n",
    "\n",
    "# Calculate the overall summary statistics\n",
    "dv_mean = districtDiffs[district_columns].mean().mean()\n",
    "dv_median = districtDiffs[district_columns].median().median()\n",
    "    # Mode omitted because it's not really meaningful to calculate the mode of a continuous variable like this.\n",
    "\n",
    "\n",
    "# Print the overall mean\n",
    "print(\"DV Mean:\", dv_mean)\n",
    "print(\"DV Median:\", dv_median)\n"
   ]
  },
  {
   "cell_type": "markdown",
   "metadata": {},
   "source": [
    "### 1.4 - Merging datasets"
   ]
  },
  {
   "cell_type": "code",
   "execution_count": 7,
   "metadata": {},
   "outputs": [],
   "source": [
    "# Changing the Date variable to read as a datetime\n",
    "districtDiffs['Date'] = pd.to_datetime(districtDiffs['Date'])"
   ]
  },
  {
   "cell_type": "code",
   "execution_count": 8,
   "metadata": {},
   "outputs": [
    {
     "name": "stdout",
     "output_type": "stream",
     "text": [
      "           Date  USPHCI  District  Value\n",
      "0    1979-04-01   46.14         1   0.22\n",
      "1    1979-04-01   46.14         2   9.92\n",
      "2    1979-04-01   46.14         3  11.87\n",
      "3    1979-04-01   46.14         4  16.25\n",
      "4    1979-04-01   46.14         5  -0.15\n",
      "...         ...     ...       ...    ...\n",
      "6391 2023-08-01  138.76         8  -1.86\n",
      "6392 2023-08-01  138.76         9   9.02\n",
      "6393 2023-08-01  138.76        10   7.18\n",
      "6394 2023-08-01  138.76        11  23.24\n",
      "6395 2023-08-01  138.76        12  23.50\n",
      "\n",
      "[6396 rows x 4 columns]\n"
     ]
    }
   ],
   "source": [
    "# Reshape districtDiffs dataframe from wide to long\n",
    "districtLong = pd.melt(districtDiffs, id_vars=[\"Date\", \"USPHCI\"], var_name=\"District\", value_name=\"Value\")\n",
    "\n",
    "# Extract the numeric part from the \"District\" names and convert to integers\n",
    "districtLong[\"District\"] = districtLong[\"District\"].str.extract(r'(\\d+)').astype(int)\n",
    "\n",
    "# Sort the DataFrame by \"Date\" and \"District\" columns\n",
    "districtLong = districtLong.sort_values(by=[\"Date\", \"District\"])\n",
    "\n",
    "# Reset the index\n",
    "districtLong.reset_index(drop=True, inplace=True)\n",
    "\n",
    "# Display the long-format DataFrame\n",
    "print(districtLong)\n"
   ]
  },
  {
   "cell_type": "code",
   "execution_count": 9,
   "metadata": {},
   "outputs": [],
   "source": [
    "# Define a mapping of city abbreviations to district numbers\n",
    "city_to_district = {\n",
    "    \"bo\": 1,\n",
    "    \"ny\": 2,\n",
    "    \"ph\": 3,\n",
    "    \"cl\": 4,\n",
    "    \"ri\": 5,\n",
    "    \"at\": 6,\n",
    "    \"ch\": 7,\n",
    "    \"sl\": 8,\n",
    "    \"mn\": 9,\n",
    "    \"kc\": 10,\n",
    "    \"da\": 11,\n",
    "    \"sf\": 12,\n",
    "}\n",
    "\n",
    "# Define a mapping of month codes (as named in the original text files of the Beige Books) to month names\n",
    "month_to_name = {\n",
    "    \"1\": \"December\",\n",
    "    \"2\": \"October\",\n",
    "    \"3\": \"September\",\n",
    "    \"4\": \"July\",\n",
    "    \"5\": \"June\",\n",
    "    \"6\": \"May\",\n",
    "    \"7\": \"March\",\n",
    "    \"8\": \"January\",\n",
    "}\n",
    "\n",
    "# Define a mapping of month names to month numbers\n",
    "name_to_month_numerical = {\n",
    "    \"December\": \"12\",\n",
    "    \"October\": \"10\",\n",
    "    \"September\": \"09\",\n",
    "    \"July\": \"07\",\n",
    "    \"June\": \"06\",\n",
    "    \"May\": \"05\",\n",
    "    \"March\": \"03\",\n",
    "    \"January\": \"01\",\n",
    "}\n"
   ]
  },
  {
   "cell_type": "code",
   "execution_count": 10,
   "metadata": {},
   "outputs": [],
   "source": [
    "# Create a new dataframe that is a copy of BeigeBookDF\n",
    "bbDF = BeigeBookDF\n",
    "\n",
    "# Extract the year, city, and month code into separate columns\n",
    "bbDF[['Year', 'City', 'MonthCode']] = BeigeBookDF['file_name'].str.extract(r'(\\d{4})_(\\w{2}) \\((\\d)\\).txt')\n",
    "\n",
    "# Map the city abbreviations to district numbers\n",
    "bbDF['District'] = bbDF['City'].map(city_to_district)\n",
    "\n",
    "# Map the month code to month names\n",
    "bbDF['MonthName'] = bbDF['MonthCode'].map(month_to_name)\n",
    "\n",
    "# Map the month names to numerical month numbers\n",
    "bbDF['MonthNumerical'] = bbDF['MonthName'].map(name_to_month_numerical)\n",
    "\n",
    "# Create a new column with the formatted date\n",
    "bbDF['Date'] = bbDF['Year'] + '-' + BeigeBookDF['MonthNumerical'] + '-01'"
   ]
  },
  {
   "cell_type": "code",
   "execution_count": 11,
   "metadata": {},
   "outputs": [],
   "source": [
    "# Convert the 'Date' column to a datetime data type\n",
    "bbDF['Date'] = pd.to_datetime(bbDF['Date'])"
   ]
  },
  {
   "cell_type": "code",
   "execution_count": 12,
   "metadata": {},
   "outputs": [
    {
     "name": "stdout",
     "output_type": "stream",
     "text": [
      "           Date  USPHCI  District  Value  \\\n",
      "0    1979-05-01   46.37         1   0.22   \n",
      "1    1979-05-01   46.37         2   9.82   \n",
      "2    1979-05-01   46.37         3  11.79   \n",
      "3    1979-05-01   46.37         4  16.14   \n",
      "4    1979-05-01   46.37         5  -0.24   \n",
      "...         ...     ...       ...    ...   \n",
      "4237 2023-06-01  138.24         8  -1.41   \n",
      "4238 2023-06-01  138.24         9   9.65   \n",
      "4239 2023-06-01  138.24        10   7.46   \n",
      "4240 2023-06-01  138.24        11  22.99   \n",
      "4241 2023-06-01  138.24        12  23.25   \n",
      "\n",
      "                                                   text        file_name  \\\n",
      "0      May 16, 1979\\nBusiness activity in the First ...  1979_bo (6).txt   \n",
      "1      May 16, 1979 \\nSecond District business activ...  1979_ny (6).txt   \n",
      "2      May 16, 1979 \\nThird District economic activi...  1979_ph (6).txt   \n",
      "3      May 16, 1979 \\nManufacturing activity in the ...  1979_cl (6).txt   \n",
      "4      May 16, 1979 \\nMost indications are that Fift...  1979_ri (6).txt   \n",
      "...                                                 ...              ...   \n",
      "4237  May 31, 2023\\nSummary of Economic Activity\\nEc...  2023_sl (5).txt   \n",
      "4238  May 31, 2023\\nSummary of Economic Activity\\nEc...  2023_mn (5).txt   \n",
      "4239  May 31, 2023\\nSummary of Economic Activity\\nTo...  2023_kc (5).txt   \n",
      "4240  May 31, 2023\\nSummary of Economic Activity\\nTh...  2023_da (5).txt   \n",
      "4241  May 31, 2023\\nSummary of Economic Activity\\nEc...  2023_sf (5).txt   \n",
      "\n",
      "      compound_score sentiment  Year City MonthCode MonthName MonthNumerical  \n",
      "0             0.8284  positive  1979   bo         6       May             05  \n",
      "1             0.9868  positive  1979   ny         6       May             05  \n",
      "2             0.9954  positive  1979   ph         6       May             05  \n",
      "3             0.3092  positive  1979   cl         6       May             05  \n",
      "4             0.9954  positive  1979   ri         6       May             05  \n",
      "...              ...       ...   ...  ...       ...       ...            ...  \n",
      "4237          0.9717  positive  2023   sl         5      June             06  \n",
      "4238          0.9986  positive  2023   mn         5      June             06  \n",
      "4239          0.9995  positive  2023   kc         5      June             06  \n",
      "4240          0.9976  positive  2023   da         5      June             06  \n",
      "4241          0.9774  positive  2023   sf         5      June             06  \n",
      "\n",
      "[4242 rows x 13 columns]\n"
     ]
    }
   ],
   "source": [
    "# Use the merge function to join the DataFrames based on the 'Date' and 'District' columns\n",
    "bbMerged = districtLong.merge(bbDF, on=['Date', 'District'])\n",
    "\n",
    "# Print the resulting DataFrame\n",
    "print(bbMerged)\n"
   ]
  },
  {
   "cell_type": "code",
   "execution_count": 13,
   "metadata": {},
   "outputs": [],
   "source": [
    "# Going to rename the Value column and drop the 'FormattedDate' column\n",
    "\n",
    "bbMerged = bbMerged.rename(columns={'Value': 'econ_index'})"
   ]
  },
  {
   "cell_type": "code",
   "execution_count": 14,
   "metadata": {},
   "outputs": [
    {
     "name": "stdout",
     "output_type": "stream",
     "text": [
      "          count      mean       std    min     25%    50%      75%    max\n",
      "District                                                                 \n",
      "1         352.0  1.938835  5.053444 -12.24 -0.8525  0.315   3.1825  18.14\n",
      "2         354.0  2.546695  5.237715 -20.98 -0.8250  0.805   8.1750  11.54\n",
      "3         353.0  2.228385  6.222225 -18.44 -3.0400  1.900   7.7200  11.79\n",
      "4         354.0  3.932627  6.678119 -15.99 -2.2675  5.005  10.0425  16.14\n",
      "5         354.0  0.809153  3.345896  -3.15 -1.2200 -0.480   1.4725  11.34\n",
      "6         354.0  0.036299  4.699060  -3.99 -2.7900 -2.220   0.5075  14.65\n",
      "7         354.0  3.906780  6.571178 -19.63 -2.3425  4.795  10.0425  15.80\n",
      "8         353.0  3.041530  3.772731  -6.99 -0.5300  2.140   6.5200  10.93\n",
      "9         354.0  2.654689  3.029284  -8.35  0.7700  1.940   3.9025  12.11\n",
      "10        353.0  1.808895  2.492047  -1.82 -0.3300  1.170   3.6900   8.69\n",
      "11        354.0  1.364887  8.659141  -8.00 -5.0200 -3.050   9.1125  22.99\n",
      "12        353.0 -0.404419  8.444640  -6.96 -5.9400 -5.470   0.8800  23.89\n"
     ]
    }
   ],
   "source": [
    "# Going to calculate the average score by date\n",
    "\n",
    "# Group the DataFrame by \"Date\" and calculate the mean for each group\n",
    "\n",
    "grouped_data = bbMerged.groupby('District')['econ_index'].describe()\n",
    "print(grouped_data)"
   ]
  },
  {
   "cell_type": "code",
   "execution_count": 15,
   "metadata": {},
   "outputs": [],
   "source": [
    "from nltk.tokenize import sent_tokenize, word_tokenize"
   ]
  },
  {
   "cell_type": "markdown",
   "metadata": {},
   "source": [
    "### 1.5 Cosine Similarity and PageRank approach\n",
    "This is related to working toward identifying key phrases within the texts that help predict economic outcomes.\n",
    "\n",
    "I didn't end up using this section now but am leaving it in because I might come back to it in the future."
   ]
  },
  {
   "cell_type": "code",
   "execution_count": 16,
   "metadata": {},
   "outputs": [],
   "source": [
    "### Create tokenized sentences\n",
    "bbMerged['sentences'] = bbMerged['text'].apply(nltk.sent_tokenize)"
   ]
  },
  {
   "cell_type": "code",
   "execution_count": 17,
   "metadata": {},
   "outputs": [],
   "source": [
    "from sklearn.feature_extraction.text import TfidfVectorizer\n",
    "from sklearn.metrics.pairwise import cosine_similarity\n",
    "import pandas as pd\n",
    "\n",
    "# Sample DataFrame with tokenized sentences in 'sentences' column\n",
    "# bbMerged = ...\n",
    "\n",
    "# Step 1: Preprocess sentences (e.g., using NLTK for tokenization)\n",
    "# Assuming you have already done the preprocessing and tokenization\n",
    "\n",
    "# Step 2: Vectorize sentences using TF-IDF\n",
    "tfidf_vectorizer = TfidfVectorizer()\n",
    "tfidf_matrix = tfidf_vectorizer.fit_transform(bbMerged['sentences'].apply(lambda x: ' '.join(x)))\n",
    "\n",
    "# Step 3: Calculate the cosine similarity matrix\n",
    "cosine_sim_matrix = cosine_similarity(tfidf_matrix, tfidf_matrix)\n",
    "\n",
    "# Create a DataFrame from the cosine similarity matrix\n",
    "cosine_sim_df = pd.DataFrame(cosine_sim_matrix, columns=bbMerged.index, index=bbMerged.index)\n",
    "\n",
    "# Now, cosine_sim_df contains the cosine similarity scores between each pair of sentences.\n"
   ]
  },
  {
   "cell_type": "code",
   "execution_count": 18,
   "metadata": {},
   "outputs": [],
   "source": [
    "import networkx as nx\n",
    "import numpy as np\n",
    "\n",
    "# Create a graph with sentences as nodes and cosine similarity scores as edges\n",
    "G = nx.Graph()\n",
    "num_sentences = len(bbMerged)\n",
    "\n",
    "for i in range(num_sentences):\n",
    "    for j in range(i + 1, num_sentences):\n",
    "        similarity = cosine_sim_matrix[i][j]\n",
    "        if similarity > 0.0:  # You may choose a threshold to include only relevant edges\n",
    "            G.add_edge(i, j, weight=similarity)\n",
    "\n",
    "# Calculate PageRank scores\n",
    "page_rank_scores = nx.pagerank(G, weight='weight')\n",
    "\n",
    "# Sort sentences by PageRank score (importance)\n",
    "sorted_sentences = sorted(page_rank_scores.items(), key=lambda x: x[1], reverse=True)\n",
    "\n",
    "# Extract the most important sentences\n",
    "num_top_sentences = 5  # You can change this value as needed\n",
    "top_sentence_indices = [index for index, score in sorted_sentences[:num_top_sentences]]\n",
    "\n",
    "# Get the actual sentences from the DataFrame\n",
    "top_sentences = [bbMerged['sentences'][index] for index in top_sentence_indices]\n",
    "\n",
    "# Now, top_sentences contains the most important sentences based on PageRank scores.\n"
   ]
  },
  {
   "cell_type": "markdown",
   "metadata": {},
   "source": [
    "### 1.6 Keyword Extraction approach\n",
    "\n",
    "Calculate the most important trigrams (three-word phrases) in the corpus using a Term Frequency-Inverse Document Frequency approach.\n",
    "\n",
    "The goal is to create an independent variable that includes the sentiment in sentences immediately surrounding these key phrases."
   ]
  },
  {
   "cell_type": "code",
   "execution_count": 19,
   "metadata": {},
   "outputs": [],
   "source": [
    "import pandas as pd\n",
    "import nltk\n",
    "from nltk.corpus import stopwords\n",
    "from nltk.tokenize import word_tokenize\n",
    "import string"
   ]
  },
  {
   "cell_type": "code",
   "execution_count": 20,
   "metadata": {},
   "outputs": [
    {
     "name": "stderr",
     "output_type": "stream",
     "text": [
      "[nltk_data] Downloading package stopwords to C:\\Users\\MCOB PHD\n",
      "[nltk_data]     14\\AppData\\Roaming\\nltk_data...\n",
      "[nltk_data]   Package stopwords is already up-to-date!\n"
     ]
    }
   ],
   "source": [
    "# Going to prepare the text for analysis by ...\n",
    "    # Tokenizing\n",
    "    # Converting to lowercase\n",
    "    # Removing punctuation\n",
    "    # Removing stopwords (common words like 'the' 'and' 'to' etc.)\n",
    "# bbMerged = ...\n",
    "\n",
    "# Step 1: Tokenization\n",
    "def tokenize_text(text):\n",
    "    tokens = word_tokenize(text)\n",
    "    return tokens\n",
    "\n",
    "# Step 2: Lowercasing\n",
    "def lowercase_text(tokens):\n",
    "    return [token.lower() for token in tokens]\n",
    "\n",
    "# Step 3: Removing Punctuation\n",
    "def remove_punctuation(tokens):\n",
    "    table = str.maketrans('', '', string.punctuation)\n",
    "    return [token.translate(table) for token in tokens]\n",
    "\n",
    "# Step 4: Removing Stopwords\n",
    "nltk.download('stopwords')\n",
    "stop_words = set(stopwords.words('english'))\n",
    "def remove_stopwords(tokens):\n",
    "    return [token for token in tokens if token not in stop_words]\n",
    "\n",
    "# Apply preprocessing steps to the 'text' column in the DataFrame\n",
    "bbMerged['preprocessed_text'] = bbMerged['text'].apply(tokenize_text)\n",
    "bbMerged['preprocessed_text'] = bbMerged['preprocessed_text'].apply(lowercase_text)\n",
    "bbMerged['preprocessed_text'] = bbMerged['preprocessed_text'].apply(remove_punctuation)\n",
    "bbMerged['preprocessed_text'] = bbMerged['preprocessed_text'].apply(remove_stopwords)\n"
   ]
  },
  {
   "cell_type": "code",
   "execution_count": 21,
   "metadata": {},
   "outputs": [],
   "source": [
    "from sklearn.feature_extraction.text import TfidfVectorizer\n",
    "\n",
    "# Initialize the TF-IDF vectorizer\n",
    "tfidf_vectorizer = TfidfVectorizer()\n",
    "\n",
    "# Fit and transform the preprocessed text to obtain TF-IDF vectors\n",
    "tfidf_matrix = tfidf_vectorizer.fit_transform(bbMerged['preprocessed_text'].apply(' '.join))\n",
    "\n",
    "# Now, tfidf_matrix contains the TF-IDF vectors for the preprocessed text in your DataFrame.\n",
    "\n",
    "# If you want to see the feature names (terms) corresponding to the columns of the TF-IDF matrix, you can do:\n",
    "feature_names = tfidf_vectorizer.get_feature_names_out()\n",
    "\n",
    "# You can also create a DataFrame from the TF-IDF matrix to inspect the TF-IDF values:\n",
    "tfidf_df = pd.DataFrame(data=tfidf_matrix.toarray(), columns=feature_names)\n",
    "\n",
    "# The 'tfidf_df' DataFrame contains the TF-IDF values for each term in each document.\n"
   ]
  },
  {
   "cell_type": "code",
   "execution_count": 22,
   "metadata": {},
   "outputs": [],
   "source": [
    "# Doing trigrams\n",
    "    # Change the range, for example, to (1, 3) if want to do single words, two-word phrases, and three-word phrases\n",
    "    # In this case, three may be best\n",
    "\n",
    "from sklearn.feature_extraction.text import TfidfVectorizer\n",
    "\n",
    "# Initialize the TF-IDF vectorizer with your chosen n-gram range\n",
    "ngram_range = (3, 3)  # Example: Use unigrams and bigrams and trigrams\n",
    "tfidf_vectorizer = TfidfVectorizer(ngram_range=ngram_range)\n",
    "\n",
    "# Fit and transform the preprocessed text to obtain TF-IDF vectors\n",
    "tfidf_matrix = tfidf_vectorizer.fit_transform(bbMerged['preprocessed_text'].apply(' '.join))\n",
    "\n",
    "# Now, tfidf_matrix contains the TF-IDF vectors with the specified n-grams.\n"
   ]
  },
  {
   "cell_type": "code",
   "execution_count": 23,
   "metadata": {},
   "outputs": [],
   "source": [
    "# Get the feature names (terms) corresponding to the columns of the TF-IDF matrix\n",
    "feature_names = tfidf_vectorizer.get_feature_names_out()\n",
    "\n",
    "# Calculate the TF-IDF scores for each feature\n",
    "tfidf_scores = tfidf_matrix.sum(axis=0).A1  # A1 converts the result to a 1-D array\n",
    "\n",
    "# Create a DataFrame to represent features and their TF-IDF scores\n",
    "tfidf_df = pd.DataFrame({'feature': feature_names, 'tfidf_score': tfidf_scores})\n",
    "\n",
    "# Sort the features by TF-IDF scores in descending order to identify the most important features\n",
    "top_features = tfidf_df.sort_values(by='tfidf_score', ascending=False)\n",
    "\n",
    "# Now, 'top_features' contains the most important trigrams based on TF-IDF scores."
   ]
  },
  {
   "cell_type": "code",
   "execution_count": 24,
   "metadata": {},
   "outputs": [],
   "source": [
    "# These are the top 100 phrases, and I export them to a CSV file to review in Excel.\n",
    "\n",
    "top_100_features = top_features.head(100)\n",
    "\n",
    "# Save the extracted DataFrame to a CSV file\n",
    "#top_100_features.to_csv('top_100_features.csv', index=False)"
   ]
  },
  {
   "cell_type": "markdown",
   "metadata": {},
   "source": [
    "### 1.7 Mean Compound Score\n",
    "\n",
    "Instead of a compound score for the whole document, which tends toward extremes of -1 and 1, I calculate the score for each sentence in each document.\n",
    "\n",
    "This allows for some flexibility in calculating different distributions (quartiles and deciles) of the sentence scores within each Beige Book."
   ]
  },
  {
   "cell_type": "code",
   "execution_count": 26,
   "metadata": {},
   "outputs": [],
   "source": [
    "import os\n",
    "import pandas as pd\n",
    "from nltk.sentiment.vader import SentimentIntensityAnalyzer\n",
    "from nltk.tokenize import sent_tokenize\n"
   ]
  },
  {
   "cell_type": "code",
   "execution_count": 27,
   "metadata": {},
   "outputs": [],
   "source": [
    "sia = SentimentIntensityAnalyzer()\n",
    "\n",
    "def calculate_sentiment_scores(text):\n",
    "    sentences = sent_tokenize(text)\n",
    "    scores = []\n",
    "\n",
    "    for sentence in sentences:\n",
    "        sentiment_score = sia.polarity_scores(sentence)\n",
    "        scores.append(sentiment_score)\n",
    "\n",
    "    return scores\n"
   ]
  },
  {
   "cell_type": "code",
   "execution_count": 28,
   "metadata": {},
   "outputs": [],
   "source": [
    "results = []"
   ]
  },
  {
   "cell_type": "code",
   "execution_count": 29,
   "metadata": {},
   "outputs": [],
   "source": [
    "for filename in os.listdir(directory_path):\n",
    "    if filename.endswith(\".txt\"):  # Assuming your text files have a .txt extension\n",
    "        file_path = os.path.join(directory_path, filename)\n",
    "        with open(file_path, 'r') as file:\n",
    "            text = file.read()\n",
    "        \n",
    "        sentiment_scores = calculate_sentiment_scores(text)\n",
    "        results.append({\n",
    "            'File': filename,\n",
    "            'Sentiment Scores': sentiment_scores\n",
    "        })\n"
   ]
  },
  {
   "cell_type": "code",
   "execution_count": 38,
   "metadata": {},
   "outputs": [],
   "source": [
    "# Going to do the above for every document\n",
    "    # Going to start with the bbMerged file, which already has Beige Book documents listed by city and date\n",
    "    # Going to create a new df that drops some of the extra stuff leftover in bbMerged\n",
    "\n",
    "bbSimple = bbMerged\n",
    "bbSimple.drop('sentiment', axis=1, inplace=True)\n",
    "bbSimple.drop('file_name', axis=1, inplace=True)\n",
    "bbSimple.drop('compound_score', axis=1, inplace=True)\n",
    "bbSimple.drop('MonthCode', axis=1, inplace=True)"
   ]
  },
  {
   "cell_type": "code",
   "execution_count": 36,
   "metadata": {},
   "outputs": [],
   "source": [
    "# Now calculating the compound score for each sentence in each Beige Book\n",
    "    # Then saving that as a list within the bbSimple dataframe\n",
    "\n",
    "# Initialize the SentimentIntensityAnalyzer\n",
    "sid = SentimentIntensityAnalyzer()\n",
    "\n",
    "# Function to calculate the compound sentiment score\n",
    "def calculate_sentiment(text):\n",
    "    sentences = sent_tokenize(text)\n",
    "    compound_scores = [sid.polarity_scores(sentence)['compound'] for sentence in sentences]\n",
    "    return compound_scores\n",
    "\n",
    "# Assuming 'bbSimple' is your DataFrame\n",
    "bbSimple['compound_sentiment'] = bbSimple['text'].apply(calculate_sentiment)\n"
   ]
  },
  {
   "cell_type": "code",
   "execution_count": 42,
   "metadata": {},
   "outputs": [],
   "source": [
    "# Example: Calculate the mean and median sentiment scores for each document\n",
    "# bbSimple['mean_sentiment'] = bbSimple['compound_sentiment'].apply(lambda x: sum(x) / len(x) if len(x) > 0 else 0)\n",
    "# bbSimple['median_sentiment'] = bbSimple['compound_sentiment'].apply(lambda x: sorted(x)[len(x) // 2] if len(x) > 0 else 0)\n",
    "\n",
    "bbSimple['mean_sentiment'] = bbSimple['compound_sentiment'].apply(lambda x: sum(x) / len(x) if len(x) > 0 else 0)\n",
    "bbSimple['median_sentiment'] = bbSimple['compound_sentiment'].apply(lambda x: sorted(x)[len(x) // 2] if len(x) > 0 else 0)"
   ]
  },
  {
   "cell_type": "code",
   "execution_count": 46,
   "metadata": {},
   "outputs": [
    {
     "data": {
      "image/png": "[encoded data removed]",
      "text/plain": [
       "<Figure size 640x480 with 1 Axes>"
      ]
     },
     "metadata": {},
     "output_type": "display_data"
    }
   ],
   "source": [
    "import matplotlib.pyplot as plt\n",
    "# Example: Create a histogram of compound sentiment scores\n",
    "plt.hist(bbSimple['mean_sentiment'], bins=20)\n",
    "plt.xlabel('Mean Sentiment Score')\n",
    "plt.ylabel('Frequency')\n",
    "plt.show()\n"
   ]
  },
  {
   "cell_type": "code",
   "execution_count": 47,
   "metadata": {},
   "outputs": [],
   "source": [
    "# Calculate deciles\n",
    "\n",
    "import numpy as np\n",
    "\n",
    "# Define a list of desired deciles (10th, 20th, ..., 90th percentiles)\n",
    "deciles = [10, 20, 30, 40, 50, 60, 70, 80, 90]\n",
    "\n",
    "# Calculate the specified deciles for each document\n",
    "for decile in deciles:\n",
    "    column_name = f'{decile}th_decile_sentiment'\n",
    "    bbSimple[column_name] = bbSimple['compound_sentiment'].apply(lambda x: np.percentile(x, decile) if len(x) > 0 else 0)\n"
   ]
  },
  {
   "cell_type": "code",
   "execution_count": 48,
   "metadata": {},
   "outputs": [],
   "source": [
    "# Doing quartiles as well\n",
    "\n",
    "import numpy as np\n",
    "\n",
    "# DbbSimple[['econ_index', 'compound_sentiment', 'mean_sentiment', 'IQR_sentiment']].median()efine a list of desired quartiles (25th, 50th, and 75th percentiles)\n",
    "quartiles = [25, 50, 75]\n",
    "\n",
    "# Calculate the specified quartiles for each document\n",
    "for quartile in quartiles:\n",
    "    column_name = f'{quartile}th_quartile_sentiment'\n",
    "    bbSimple[column_name] = bbSimple['compound_sentiment'].apply(lambda x: np.percentile(x, quartile) if len(x) > 0 else 0)\n"
   ]
  },
  {
   "cell_type": "markdown",
   "metadata": {},
   "source": [
    "### 1.8 Economic Index Dummy\n",
    "\n",
    "To set up for a classification model, a dummy is created that equals 1 for positive values of the economic index (DV) and 0 for non-positive values.\n",
    "\n",
    "A 1 indicates a district has a more positive sentiment that month than the national average."
   ]
  },
  {
   "cell_type": "code",
   "execution_count": 73,
   "metadata": {},
   "outputs": [],
   "source": [
    "# Create a new column 'econ_index_dummy' and set it to 1 for positive values and 0 for non-positive values\n",
    "bbSimple['econ_index_dummy'] = bbSimple['econ_index'].apply(lambda x: 1 if x > 0 else 0)\n"
   ]
  },
  {
   "cell_type": "markdown",
   "metadata": {},
   "source": [
    "### 1.9 Interquartile Range\n",
    "\n",
    "Interquartile range gives a measure of the variation in the sentence sentiment scores within a document.\n",
    "\n",
    "This is an IV in the model."
   ]
  },
  {
   "cell_type": "code",
   "execution_count": 50,
   "metadata": {},
   "outputs": [],
   "source": [
    "# Calculating interquartile range\n",
    "bbSimple['IQR_sentiment'] = bbSimple['75th_quartile_sentiment'] - bbSimple['25th_quartile_sentiment']"
   ]
  },
  {
   "cell_type": "markdown",
   "metadata": {},
   "source": [
    "# Machine learning application"
   ]
  },
  {
   "cell_type": "markdown",
   "metadata": {},
   "source": [
    "## 2. Train/Test Split"
   ]
  },
  {
   "cell_type": "code",
   "execution_count": 74,
   "metadata": {},
   "outputs": [],
   "source": [
    "from sklearn.model_selection import train_test_split\n",
    "\n",
    "# Split the data into training and testing sets with an 80/20 ratio\n",
    "train_set, test_set = train_test_split(bbSimple, test_size=0.2, random_state=7)\n",
    "\n",
    "# 'test_size' specifies the proportion of the dataset to include in the test split (0.2 means 20%)\n",
    "# 'random_state' is used to ensure reproducibility, you can set it to any integer value for consistency\n",
    "\n",
    "# You can now use 'train_set' and 'test_set' for your machine learning tasks\n"
   ]
  },
  {
   "cell_type": "code",
   "execution_count": 75,
   "metadata": {},
   "outputs": [],
   "source": [
    "# Assuming 'target_column' is the name of the column you want to predict\n",
    "X_train = train_set.drop(columns=['econ_index_dummy'])\n",
    "y_train = train_set['econ_index_dummy']\n",
    "\n",
    "X_test = test_set.drop(columns=['econ_index_dummy'])\n",
    "y_test = test_set['econ_index_dummy']\n"
   ]
  },
  {
   "cell_type": "code",
   "execution_count": 76,
   "metadata": {},
   "outputs": [],
   "source": [
    "X_train = X_train[['mean_sentiment', 'IQR_sentiment']]\n",
    "X_test = X_test[['mean_sentiment', 'IQR_sentiment']]\n"
   ]
  },
  {
   "cell_type": "markdown",
   "metadata": {},
   "source": [
    "## 3. Model Selection\n",
    "\n",
    "Going to use a random forest to classify whether the economic index for a given month is positive (greater than the national index) or negative (less than the national index).\n",
    "\n",
    "Random forest is an appropriate method for a classification problem like this. However, you could use the economic index score, rather than the dummy, and use a regression setup.\n",
    "\n",
    "Classification was used because the interpretation of the results was more straightforward in this case: What percentage of cases were predicted correctly?"
   ]
  },
  {
   "cell_type": "code",
   "execution_count": 77,
   "metadata": {},
   "outputs": [],
   "source": [
    "from sklearn.ensemble import RandomForestClassifier  # or RandomForestRegressor for regression\n",
    "\n",
    "# Create a Random Forest model\n",
    "model = RandomForestClassifier(n_estimators=100, random_state=7)  # You can adjust hyperparameters as needed"
   ]
  },
  {
   "cell_type": "markdown",
   "metadata": {},
   "source": [
    "## 4. Model Training"
   ]
  },
  {
   "cell_type": "code",
   "execution_count": 78,
   "metadata": {},
   "outputs": [
    {
     "data": {
      "text/plain": [
       "RandomForestClassifier(random_state=7)"
      ]
     },
     "execution_count": 78,
     "metadata": {},
     "output_type": "execute_result"
    }
   ],
   "source": [
    "# Train the model on the training data\n",
    "model.fit(X_train, y_train)\n"
   ]
  },
  {
   "cell_type": "code",
   "execution_count": 79,
   "metadata": {},
   "outputs": [],
   "source": [
    "# Make predictions on the test data\n",
    "predictions = model.predict(X_test)\n"
   ]
  },
  {
   "cell_type": "code",
   "execution_count": 80,
   "metadata": {},
   "outputs": [],
   "source": [
    "from sklearn.metrics import accuracy_score, f1_score, mean_squared_error\n",
    "\n",
    "# For classification problems\n",
    "accuracy = accuracy_score(y_test, predictions)\n",
    "f1 = f1_score(y_test, predictions)"
   ]
  },
  {
   "cell_type": "code",
   "execution_count": 81,
   "metadata": {},
   "outputs": [
    {
     "name": "stdout",
     "output_type": "stream",
     "text": [
      "0.5182567726737338\n",
      "0.5752855659397714\n"
     ]
    }
   ],
   "source": [
    "print(accuracy)\n",
    "print(f1)"
   ]
  },
  {
   "cell_type": "markdown",
   "metadata": {},
   "source": [
    "### 4.2 - 5-fold cross validation"
   ]
  },
  {
   "cell_type": "code",
   "execution_count": 82,
   "metadata": {},
   "outputs": [],
   "source": [
    "from sklearn.ensemble import RandomForestClassifier  # or RandomForestRegressor for regression\n",
    "from sklearn.model_selection import cross_val_predict, KFold"
   ]
  },
  {
   "cell_type": "code",
   "execution_count": 84,
   "metadata": {},
   "outputs": [],
   "source": [
    "# Preparing data\n",
    "X = bbSimple[['mean_sentiment', 'median_sentiment', 'IQR_sentiment']]  # Specify your features here\n",
    "y = bbSimple['econ_index_dummy']\n"
   ]
  },
  {
   "cell_type": "code",
   "execution_count": 86,
   "metadata": {},
   "outputs": [],
   "source": [
    "model = RandomForestClassifier(n_estimators=100, random_state=7)  # You can adjust hyperparameters as needed\n"
   ]
  },
  {
   "cell_type": "code",
   "execution_count": 87,
   "metadata": {},
   "outputs": [],
   "source": [
    "kf = KFold(n_splits=5, shuffle=True, random_state=42)  # Create a 5-fold cross-validation split\n",
    "\n",
    "# Perform cross-validation and get predictions\n",
    "predictions = cross_val_predict(model, X, y, cv=kf)\n"
   ]
  },
  {
   "cell_type": "markdown",
   "metadata": {},
   "source": [
    "## 5. Model Evaluation"
   ]
  },
  {
   "cell_type": "code",
   "execution_count": 88,
   "metadata": {},
   "outputs": [],
   "source": [
    "# Evaluate the model's performance\n",
    "from sklearn.metrics import accuracy_score, f1_score  # Use appropriate metrics for your problem\n",
    "\n",
    "accuracy = accuracy_score(y, predictions)\n",
    "f1 = f1_score(y, predictions)"
   ]
  },
  {
   "cell_type": "code",
   "execution_count": 89,
   "metadata": {},
   "outputs": [
    {
     "name": "stdout",
     "output_type": "stream",
     "text": [
      "0.5372465818010372\n",
      "0.5950072209614194\n"
     ]
    }
   ],
   "source": [
    "print(accuracy)\n",
    "print(f1)"
   ]
  },
  {
   "cell_type": "markdown",
   "metadata": {},
   "source": [
    "### 5.2 Cross-validation metric scores"
   ]
  },
  {
   "cell_type": "code",
   "execution_count": 102,
   "metadata": {},
   "outputs": [
    {
     "name": "stdout",
     "output_type": "stream",
     "text": [
      "Cross-validated Accuracy Scores: [0.50647821 0.48881037 0.54716981 0.58018868 0.48938679]\n",
      "Mean Accuracy: 0.5224067715625486\n"
     ]
    }
   ],
   "source": [
    "from sklearn.model_selection import cross_val_score\n",
    "\n",
    "# Perform cross-validation and obtain metric scores (e.g., accuracy)\n",
    "cv_scores = cross_val_score(model, X, y, cv=5)  # cv=5 means 5-fold cross-validation\n",
    "\n",
    "# Print the cross-validated metric scores\n",
    "print(\"Cross-validated Accuracy Scores:\", cv_scores)\n",
    "print(\"Mean Accuracy:\", cv_scores.mean())\n"
   ]
  },
  {
   "cell_type": "markdown",
   "metadata": {},
   "source": [
    "## 6. Results Visualization"
   ]
  },
  {
   "cell_type": "code",
   "execution_count": 90,
   "metadata": {},
   "outputs": [],
   "source": [
    "from sklearn.metrics import confusion_matrix\n",
    "import seaborn as sns\n"
   ]
  },
  {
   "cell_type": "code",
   "execution_count": 92,
   "metadata": {},
   "outputs": [],
   "source": [
    "# Compute the Confusion Matrix:\n",
    "conf_matrix = confusion_matrix(y, predictions)\n"
   ]
  },
  {
   "cell_type": "code",
   "execution_count": 93,
   "metadata": {},
   "outputs": [
    {
     "data": {
      "image/png": "[encoded data removed]",
      "text/plain": [
       "<Figure size 640x480 with 2 Axes>"
      ]
     },
     "metadata": {},
     "output_type": "display_data"
    }
   ],
   "source": [
    "sns.heatmap(conf_matrix, annot=True, fmt=\"d\", cmap=\"Blues\")\n",
    "plt.xlabel(\"Predicted\")\n",
    "plt.ylabel(\"Actual\")\n",
    "plt.title(\"Confusion Matrix\")\n",
    "plt.show()\n"
   ]
  },
  {
   "cell_type": "markdown",
   "metadata": {},
   "source": [
    "### 6.2 - Feature importance plot\n",
    "Want to show how much each predictor mattered."
   ]
  },
  {
   "cell_type": "code",
   "execution_count": 95,
   "metadata": {},
   "outputs": [],
   "source": [
    "import pandas as pd\n",
    "from sklearn.ensemble import RandomForestClassifier\n",
    "from sklearn.model_selection import cross_val_predict, KFold\n",
    "import matplotlib.pyplot as plt\n"
   ]
  },
  {
   "cell_type": "code",
   "execution_count": 96,
   "metadata": {},
   "outputs": [],
   "source": [
    "# Previously defined 'X' and 'y' and 'kf' for 5-fold cross-validation\n",
    "# Create an empty list to store feature importances for each fold\n",
    "feature_importances_list = []\n",
    "\n",
    "for train_idx, test_idx in kf.split(X):\n",
    "    X_train, X_test = X.iloc[train_idx], X.iloc[test_idx]\n",
    "    y_train, y_test = y.iloc[train_idx], y.iloc[test_idx]\n",
    "    \n",
    "    # Create and train a Random Forest model for this fold\n",
    "    model = RandomForestClassifier(n_estimators=100, random_state=7)\n",
    "    model.fit(X_train, y_train)\n",
    "    \n",
    "    # Retrieve and store feature importances for this fold\n",
    "    feature_importances_list.append(model.feature_importances_)\n"
   ]
  },
  {
   "cell_type": "code",
   "execution_count": 97,
   "metadata": {},
   "outputs": [],
   "source": [
    "import numpy as np\n",
    "\n",
    "# Calculate the mean feature importances across all folds\n",
    "mean_feature_importances = np.mean(feature_importances_list, axis=0)\n",
    "\n",
    "# Create a DataFrame with feature names and their mean importances\n",
    "feature_importance_df = pd.DataFrame({'Feature': X.columns, 'Importance': mean_feature_importances})\n",
    "\n",
    "# Sort the DataFrame by importance in descending order\n",
    "feature_importance_df = feature_importance_df.sort_values(by='Importance', ascending=False)\n"
   ]
  },
  {
   "cell_type": "code",
   "execution_count": 98,
   "metadata": {},
   "outputs": [
    {
     "data": {
      "image/png": "[encoded data removed]",
      "text/plain": [
       "<Figure size 1000x600 with 1 Axes>"
      ]
     },
     "metadata": {},
     "output_type": "display_data"
    }
   ],
   "source": [
    "# Set the size of the plot\n",
    "plt.figure(figsize=(10, 6))\n",
    "\n",
    "# Create a bar plot for feature importances\n",
    "plt.barh(feature_importance_df['Feature'], feature_importance_df['Importance'])\n",
    "\n",
    "# Customize the plot\n",
    "plt.xlabel('Feature Importance')\n",
    "plt.ylabel('Feature')\n",
    "plt.title('Feature Importance Plot')\n",
    "\n",
    "# Show the plot\n",
    "plt.show()\n"
   ]
  },
  {
   "cell_type": "markdown",
   "metadata": {},
   "source": [
    "## 7. Interpretation of Results\n",
    "\n",
    "The model's accuracy is not good; it only correctly predicts whether the economic index is greater or worse than the national average 53.7% of the time. Those results are only marginally better than a guess.\n",
    "\n",
    "However, I expected that with the limited number of variables. Mean sentiment is the most important predictor, followed by interquartile range of the sentiment. Median sentiment does not add much predictive power to the model.\n",
    "\n",
    "My future plan is to improve the model's predictions by adding more predictor variables, namely related to the presence of key trigrams in the document.\n",
    "\n"
   ]
  }
 ],
 "metadata": {
  "kernelspec": {
   "display_name": "base",
   "language": "python",
   "name": "python3"
  },
  "language_info": {
   "codemirror_mode": {
    "name": "ipython",
    "version": 3
   },
   "file_extension": ".py",
   "mimetype": "text/x-python",
   "name": "python",
   "nbconvert_exporter": "python",
   "pygments_lexer": "ipython3",
   "version": "3.9.13"
  }
 },
 "nbformat": 4,
 "nbformat_minor": 2
}
